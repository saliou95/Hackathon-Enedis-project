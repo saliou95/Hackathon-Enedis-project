{
 "cells": [
  {
   "cell_type": "code",
   "execution_count": 6,
   "id": "cd7f2b34",
   "metadata": {},
   "outputs": [],
   "source": [
    "#Import library\n",
    "import pandas as pd\n",
    "import numpy as np\n",
    "from scipy.signal import argrelextrema"
   ]
  },
  {
   "cell_type": "code",
   "execution_count": 7,
   "id": "b1e0fe85",
   "metadata": {},
   "outputs": [],
   "source": [
    "#Import csv\n",
    "\n",
    "directory = \"C:/Users/Utilisateur/Desktop/hackathon251122/clean_data/\"\n",
    "\n",
    "df = pd.read_csv(directory + \"ACDC_CC_STM A 25_11_2022.csv\", sep = \",\")"
   ]
  },
  {
   "cell_type": "code",
   "execution_count": 8,
   "id": "9ed33d2a",
   "metadata": {},
   "outputs": [],
   "source": [
    "def max_value(df, pourcentage):\n",
    "    \n",
    "    \n",
    "    \n",
    "    #concate date + heure\n",
    "\n",
    "    df[\"date\"] = df[\"date\"] + \" \" + df[\"heure\"]\n",
    "    \n",
    "    # found local peaks \n",
    "\n",
    "    n = 500 # number of points to be checked before and after\n",
    "\n",
    "    df['min'] = df.iloc[argrelextrema(df.consomation.values, np.less_equal,\n",
    "                    order=n)[0]]['consomation']\n",
    "    df['max'] = df.iloc[argrelextrema(df.consomation.values, np.greater_equal,\n",
    "                    order=n)[0]]['consomation']\n",
    "\n",
    "    max_value = 0\n",
    "\n",
    "    for num in df[\"max\"]:\n",
    "        if (max_value is None or num > max_value):\n",
    "            max_value = num\n",
    "            \n",
    "    val_cor = max_value // ((pourcentage/100)+1)\n",
    "\n",
    "    print(f'Valeure maximale : {max_value} Kw')\n",
    "    print(f\"Valeure corrigée : {val_cor} Kw\")"
   ]
  },
  {
   "cell_type": "code",
   "execution_count": 9,
   "id": "85daecc8",
   "metadata": {},
   "outputs": [
    {
     "name": "stdout",
     "output_type": "stream",
     "text": [
      "Valeure maximale : 221.0 Kw\n",
      "Valeure corrigée : 200.0 Kw\n"
     ]
    }
   ],
   "source": [
    "max_value(df, 10)"
   ]
  },
  {
   "cell_type": "code",
   "execution_count": null,
   "id": "f909b676",
   "metadata": {},
   "outputs": [],
   "source": []
  }
 ],
 "metadata": {
  "kernelspec": {
   "display_name": "Python 3 (ipykernel)",
   "language": "python",
   "name": "python3"
  },
  "language_info": {
   "codemirror_mode": {
    "name": "ipython",
    "version": 3
   },
   "file_extension": ".py",
   "mimetype": "text/x-python",
   "name": "python",
   "nbconvert_exporter": "python",
   "pygments_lexer": "ipython3",
   "version": "3.9.13"
  }
 },
 "nbformat": 4,
 "nbformat_minor": 5
}
