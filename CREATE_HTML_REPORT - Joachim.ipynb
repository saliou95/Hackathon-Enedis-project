{
 "cells": [
  {
   "cell_type": "code",
   "execution_count": 1,
   "id": "25fdc0a1",
   "metadata": {},
   "outputs": [],
   "source": [
    "def show_browser(df):\n",
    "    \n",
    "    from dataprep.eda import create_report # import library\n",
    "    \n",
    "    df = df.drop([\"heure\", \"date\"], axis = 1)\n",
    "    report = create_report(df, display = [\"Variables\"])\n",
    "    #report.show_browser() # open browser\n",
    "    report.save(\"report_histo_frequency_consumation\") # save at html page"
   ]
  },
  {
   "cell_type": "code",
   "execution_count": null,
   "id": "77019cea",
   "metadata": {},
   "outputs": [],
   "source": [
    "show_browser(df_A)"
   ]
  }
 ],
 "metadata": {
  "kernelspec": {
   "display_name": "Python 3 (ipykernel)",
   "language": "python",
   "name": "python3"
  },
  "language_info": {
   "codemirror_mode": {
    "name": "ipython",
    "version": 3
   },
   "file_extension": ".py",
   "mimetype": "text/x-python",
   "name": "python",
   "nbconvert_exporter": "python",
   "pygments_lexer": "ipython3",
   "version": "3.9.13"
  }
 },
 "nbformat": 4,
 "nbformat_minor": 5
}
